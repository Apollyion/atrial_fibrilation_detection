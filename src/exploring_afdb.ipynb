{
 "cells": [
  {
   "cell_type": "code",
   "execution_count": 1,
   "metadata": {},
   "outputs": [],
   "source": [
    "import os\n",
    "from typing import List, Tuple\n",
    "import wfdb\n",
    "from wfdb import processing\n",
    "from tqdm import tqdm\n",
    "import numpy as np\n",
    "\n",
    "\n",
    "def clean_annotations(annotation: wfdb.Annotation) -> Tuple[List[int], List[str]]:\n",
    "    \"\"\"\n",
    "    Remove anotações vazias da lista de anotações.\n",
    "\n",
    "    Args:\n",
    "        annotation (wfdb.Annotation): Anotação contendo as amostras e notas auxiliares.\n",
    "\n",
    "    Returns:\n",
    "        Tuple[List[int], List[str]]: Listas de amostras e notas auxiliares não vazias.\n",
    "    \"\"\"\n",
    "    sample, aux_note = annotation.sample, annotation.aux_note\n",
    "    non_empty_indices = [i for i, note in enumerate(aux_note) if note != \"\"]\n",
    "    clean_aux_note = [aux_note[i] for i in non_empty_indices]\n",
    "    clean_sample = [sample[i] for i in non_empty_indices]\n",
    "    return clean_sample, clean_aux_note\n",
    "\n",
    "def get_ranges_afib(record_path: str, signal_len: int) -> List[Tuple[int, int]]:\n",
    "    \"\"\"\n",
    "    Obtém os intervalos de interesse onde a anotação é AFIB.\n",
    "\n",
    "    Args:\n",
    "        record_path (str): Caminho para o registro do sinal.\n",
    "        signal_len (int): Comprimento total do sinal.\n",
    "\n",
    "    Returns:\n",
    "        List[Tuple[int, int]]: Lista de tuplas com os intervalos de início e fim onde a anotação é AFIB.\n",
    "    \"\"\"\n",
    "    annotation = wfdb.rdann(record_path, \"atr\")\n",
    "    sample, aux_note = clean_annotations(annotation)\n",
    "    ranges_interest = []\n",
    "\n",
    "    for i, label in enumerate(aux_note):\n",
    "        if label == \"(AFIB\":\n",
    "            afib_start = sample[i]\n",
    "            afib_end = signal_len if i == len(sample) - 1 else sample[i + 1] - 1\n",
    "            ranges_interest.append((afib_start, afib_end))\n",
    "\n",
    "    return ranges_interest\n"
   ]
  },
  {
   "cell_type": "code",
   "execution_count": 2,
   "metadata": {},
   "outputs": [
    {
     "name": "stdout",
     "output_type": "stream",
     "text": [
      "Record ID: 04015, AFIB Intervals: [(102584, 119603), (121773, 122193), (133348, 166856), (1096245, 1098053), (1135296, 1139594), (1422436, 1423547), (1459277, 1460415)]\n"
     ]
    },
    {
     "name": "stderr",
     "output_type": "stream",
     "text": [
      "100%|██████████| 7/7 [00:00<00:00, 39.68it/s]\n"
     ]
    },
    {
     "name": "stdout",
     "output_type": "stream",
     "text": [
      "Record ID: 04043, AFIB Intervals: [(266498, 376327), (2585284, 2602515), (2634911, 2739811), (2745162, 2779580), (2834739, 2841727), (3119235, 3121705), (3324526, 3352182), (3607124, 3637518), (3665624, 3680629), (3690356, 3707031), (3714455, 3729453), (3757893, 3850172), (3864338, 3882085), (3911965, 3939728), (3947348, 3992718), (4002976, 4067052), (4100718, 4135454), (4144613, 4180312), (4184151, 4207222), (4216965, 4232560), (4397189, 4429651), (4469008, 4475225), (4484786, 4508434), (4527258, 4551867), (4572558, 4602708), (4627077, 4636997), (4650429, 4700107), (4846373, 4859019), (4977503, 5001898), (5025436, 5047414), (5064396, 5076308), (5093223, 5105439), (5122383, 5136041), (5143706, 5152530), (5223157, 5237639), (5245920, 5258588), (5269137, 5310429), (5328717, 5383210), (5412443, 5446748), (5481762, 5504397), (5518464, 5535881), (5559927, 5576036), (5592280, 5633071), (5668367, 5685491), (5713187, 5719860), (5746977, 5774761), (5797297, 5822968), (5859230, 5866171), (5891680, 5931745), (6129598, 6142318), (6167966, 6200372), (6254934, 6273885), (6378723, 6404593), (6530475, 6538180), (6562320, 6574833), (6681068, 6701452), (6749285, 6762697), (6793370, 6796578), (7083332, 7099953), (7202179, 7253975), (7312817, 7338001), (7436858, 7450330), (7471557, 7477468), (7511862, 7514585), (7537962, 7555565), (7605110, 7621969), (7659426, 7669198), (7737044, 7769643), (7826178, 7841412), (8012816, 8028177), (8048250, 8049794), (8069401, 8089734), (8198085, 8218287), (8256562, 8262298), (8355804, 8362312), (8411314, 8471312), (8693472, 8707103), (8732495, 8752735), (8788100, 8801687), (8874298, 8884574), (8910970, 8921518), (8952011, 8981285)]\n"
     ]
    },
    {
     "name": "stderr",
     "output_type": "stream",
     "text": [
      "100%|██████████| 82/82 [00:16<00:00,  4.87it/s]\n"
     ]
    },
    {
     "name": "stdout",
     "output_type": "stream",
     "text": [
      "Record ID: 04048, AFIB Intervals: [(556677, 580970), (716110, 724075), (2148473, 2153996), (2998791, 3003177), (3638922, 3677437), (4157977, 4162993), (7681741, 7686230)]\n"
     ]
    },
    {
     "name": "stderr",
     "output_type": "stream",
     "text": [
      "100%|██████████| 7/7 [00:00<00:00, 12.91it/s]\n"
     ]
    },
    {
     "name": "stdout",
     "output_type": "stream",
     "text": [
      "Record ID: 04126, AFIB Intervals: [(11388, 138151), (171592, 191327), (252786, 322907), (748262, 847440), (7832273, 7836541), (8273014, 8291854), (8307657, 8313238)]\n"
     ]
    },
    {
     "name": "stderr",
     "output_type": "stream",
     "text": [
      "100%|██████████| 7/7 [00:00<00:00, 10.14it/s]\n"
     ]
    },
    {
     "name": "stdout",
     "output_type": "stream",
     "text": [
      "Record ID: 04746, AFIB Intervals: [(1097510, 1098683), (2284261, 2285671), (2319586, 2326153), (2608376, 5696114), (5705521, 7496880)]\n"
     ]
    },
    {
     "name": "stderr",
     "output_type": "stream",
     "text": [
      "100%|██████████| 5/5 [00:00<00:00,  9.36it/s]\n"
     ]
    },
    {
     "name": "stdout",
     "output_type": "stream",
     "text": [
      "Record ID: 04908, AFIB Intervals: [(1227217, 1329238), (1744908, 1945250), (3399665, 3562784), (3565302, 3579130), (3583635, 3619439), (3674940, 3719452), (3720336, 3724942), (8591413, 8797786)]\n"
     ]
    },
    {
     "name": "stderr",
     "output_type": "stream",
     "text": [
      "100%|██████████| 8/8 [00:01<00:00,  7.38it/s]\n"
     ]
    },
    {
     "name": "stdout",
     "output_type": "stream",
     "text": [
      "Record ID: 04936, AFIB Intervals: [(413691, 447760), (1023430, 1027875), (1091766, 1105883), (1115502, 1151701), (1174135, 1189342), (1203805, 1204430), (1205494, 1316328), (1333475, 1352711), (1364357, 1382499), (1393567, 1406690), (1430321, 1668403), (1694048, 1890995), (1904539, 1905744), (1936943, 2047169), (2068111, 2102387), (2119395, 2138827), (2147935, 2280888), (2303975, 2464066), (2494806, 2498352), (2506461, 3130657), (3165666, 4753216), (4781740, 4792438), (4804448, 4901633), (4917777, 5080722), (5100410, 5110360), (5118731, 5523272), (5548092, 5687292), (5724606, 5953275), (5981405, 5984043), (5990301, 5992458), (5995465, 7325786), (7366279, 7453004), (7490747, 7582420), (7609874, 7612043), (7619457, 8269227), (8311034, 8358030)]\n"
     ]
    },
    {
     "name": "stderr",
     "output_type": "stream",
     "text": [
      "100%|██████████| 36/36 [00:03<00:00,  9.46it/s]\n"
     ]
    },
    {
     "name": "stdout",
     "output_type": "stream",
     "text": [
      "Record ID: 05091, AFIB Intervals: [(1633050, 1633998), (1900120, 1901524), (2270154, 2270586), (2574098, 2575189), (2591265, 2593949), (2618884, 2619972), (2877400, 2880800), (4350349, 4360986)]\n"
     ]
    },
    {
     "name": "stderr",
     "output_type": "stream",
     "text": [
      "100%|██████████| 8/8 [00:00<00:00, 18.23it/s]\n"
     ]
    },
    {
     "name": "stdout",
     "output_type": "stream",
     "text": [
      "Record ID: 05121, AFIB Intervals: [(1843491, 1844114), (1849414, 2305444), (2316258, 2416868), (2424776, 3435781), (3448070, 3676803), (3683982, 3729924), (3844733, 3889215), (3897888, 4899445), (4908291, 6917104), (6924329, 7099842), (7106612, 7118119), (7126125, 7322624), (7327125, 7448749), (7453750, 7519624), (7528250, 7795999), (7802000, 7818874), (7825750, 7832124), (7836000, 7841874), (7845375, 7856249), (7875875, 7901534)]\n"
     ]
    },
    {
     "name": "stderr",
     "output_type": "stream",
     "text": [
      "100%|██████████| 20/20 [00:03<00:00,  5.89it/s]\n"
     ]
    },
    {
     "name": "stdout",
     "output_type": "stream",
     "text": [
      "Record ID: 05261, AFIB Intervals: [(2162708, 2163555), (4057942, 4062019), (4387405, 4400368), (5497141, 5500960), (5586022, 5587001), (5593100, 5596161), (5707701, 5712200), (5764404, 5766059), (6484710, 6567194), (6598300, 6602554), (7405319, 7406543)]\n"
     ]
    },
    {
     "name": "stderr",
     "output_type": "stream",
     "text": [
      "100%|██████████| 11/11 [00:01<00:00,  6.97it/s]\n"
     ]
    },
    {
     "name": "stdout",
     "output_type": "stream",
     "text": [
      "Record ID: 06426, AFIB Intervals: [(37, 526602), (534235, 556303), (580089, 1141938), (1171384, 1237710), (1260913, 1269655), (1279294, 1306071), (1321073, 1861731), (1883236, 1884275), (1958340, 1969008), (1973372, 1983160), (1989878, 2025146), (2037856, 2311117), (2325600, 2339126), (2351379, 2356313), (2376449, 2394948), (2403427, 2422235), (2436612, 2595565), (2613266, 2808841), (2831335, 3041404), (3054861, 3208996), (3218947, 4067638), (4072555, 4097665), (4108663, 4307772), (4317264, 6143602), (6173823, 6178528), (6188862, 9205760)]\n"
     ]
    },
    {
     "name": "stderr",
     "output_type": "stream",
     "text": [
      "100%|██████████| 26/26 [00:02<00:00, 10.97it/s]\n"
     ]
    },
    {
     "name": "stdout",
     "output_type": "stream",
     "text": [
      "Record ID: 06453, AFIB Intervals: [(763937, 767746), (926994, 934173), (1046206, 1063040), (1603835, 1605896), (7326248, 7364038), (7457733, 7482874)]\n"
     ]
    },
    {
     "name": "stderr",
     "output_type": "stream",
     "text": [
      "100%|██████████| 6/6 [00:00<00:00, 13.66it/s]\n"
     ]
    },
    {
     "name": "stdout",
     "output_type": "stream",
     "text": [
      "Record ID: 06995, AFIB Intervals: [(7, 1381606), (1383575, 1387964), (1389204, 1399237), (1856046, 1864113), (3789346, 3793221), (6274349, 9205760)]\n"
     ]
    },
    {
     "name": "stderr",
     "output_type": "stream",
     "text": [
      "100%|██████████| 6/6 [00:00<00:00,  9.58it/s]\n"
     ]
    },
    {
     "name": "stdout",
     "output_type": "stream",
     "text": [
      "Record ID: 07162, AFIB Intervals: [(174, 9205760)]\n"
     ]
    },
    {
     "name": "stderr",
     "output_type": "stream",
     "text": [
      "100%|██████████| 1/1 [00:00<00:00,  3.85it/s]\n"
     ]
    },
    {
     "name": "stdout",
     "output_type": "stream",
     "text": [
      "Record ID: 07859, AFIB Intervals: [(43, 9205760)]\n"
     ]
    },
    {
     "name": "stderr",
     "output_type": "stream",
     "text": [
      "100%|██████████| 1/1 [00:00<00:00,  2.43it/s]\n"
     ]
    },
    {
     "name": "stdout",
     "output_type": "stream",
     "text": [
      "Record ID: 07879, AFIB Intervals: [(1783080, 7333066), (7334783, 7335467)]\n"
     ]
    },
    {
     "name": "stderr",
     "output_type": "stream",
     "text": [
      "100%|██████████| 2/2 [00:00<00:00,  3.46it/s]\n"
     ]
    },
    {
     "name": "stdout",
     "output_type": "stream",
     "text": [
      "Record ID: 07910, AFIB Intervals: [(806384, 864892), (1758668, 1760362), (1881846, 2322141), (2556411, 2558624), (8241169, 9205760)]\n"
     ]
    },
    {
     "name": "stderr",
     "output_type": "stream",
     "text": [
      "100%|██████████| 5/5 [00:00<00:00, 13.90it/s]\n"
     ]
    },
    {
     "name": "stdout",
     "output_type": "stream",
     "text": [
      "Record ID: 08215, AFIB Intervals: [(1774708, 3204434), (3216995, 9205760)]\n"
     ]
    },
    {
     "name": "stderr",
     "output_type": "stream",
     "text": [
      "100%|██████████| 2/2 [00:00<00:00,  5.38it/s]\n"
     ]
    },
    {
     "name": "stdout",
     "output_type": "stream",
     "text": [
      "Record ID: 08219, AFIB Intervals: [(3077924, 3126812), (3144896, 3236449), (3272405, 3373025), (3385696, 3491432), (3534149, 3593002), (3603735, 3664615), (3679789, 3813869), (3824127, 3841688), (3854499, 3873942), (4433500, 4537194), (4544500, 4569749), (4581494, 4668720), (4676269, 4708990), (4717972, 4736917), (4742277, 4778242), (4788054, 4806611), (4818981, 4863751), (4873479, 4900295), (4911280, 4928795), (4941994, 4966820), (4980705, 5012328), (5020409, 5067425), (5074252, 5083416), (5091007, 5105316), (5116801, 5157999), (5170948, 5189836), (5203078, 5308513), (5319425, 5370404), (5404332, 5469499), (5478103, 5504767), (5513587, 5579082), (5583855, 5649864), (5657428, 5676703), (5685322, 5742740), (5751408, 5757245), (5759472, 5818652), (5832312, 6025441), (6040285, 6065974), (6075963, 6086764)]\n"
     ]
    },
    {
     "name": "stderr",
     "output_type": "stream",
     "text": [
      "100%|██████████| 39/39 [00:06<00:00,  5.80it/s]\n"
     ]
    },
    {
     "name": "stdout",
     "output_type": "stream",
     "text": [
      "Record ID: 08378, AFIB Intervals: [(742007, 2281341), (4602354, 4868965), (4877160, 4963328), (4977273, 4988715), (4995131, 5016173)]\n"
     ]
    },
    {
     "name": "stderr",
     "output_type": "stream",
     "text": [
      "100%|██████████| 5/5 [00:00<00:00,  7.45it/s]\n"
     ]
    },
    {
     "name": "stdout",
     "output_type": "stream",
     "text": [
      "Record ID: 08405, AFIB Intervals: [(2545096, 2549498), (2562781, 9205760)]\n"
     ]
    },
    {
     "name": "stderr",
     "output_type": "stream",
     "text": [
      "100%|██████████| 2/2 [00:00<00:00,  4.40it/s]\n"
     ]
    },
    {
     "name": "stdout",
     "output_type": "stream",
     "text": [
      "Record ID: 08434, AFIB Intervals: [(2237188, 2315412), (2321489, 2489166), (2496786, 2606816)]\n"
     ]
    },
    {
     "name": "stderr",
     "output_type": "stream",
     "text": [
      "100%|██████████| 3/3 [00:00<00:00, 15.60it/s]\n"
     ]
    },
    {
     "name": "stdout",
     "output_type": "stream",
     "text": [
      "Record ID: 08455, AFIB Intervals: [(2808396, 2820742), (2850351, 9205760)]\n"
     ]
    },
    {
     "name": "stderr",
     "output_type": "stream",
     "text": [
      "100%|██████████| 2/2 [00:00<00:00,  4.27it/s]\n"
     ]
    }
   ],
   "source": [
    "def process_records(database_path: str) -> None:\n",
    "    \"\"\"\n",
    "    Processa todos os registros no caminho especificado, excluindo os registros indesejados.\n",
    "\n",
    "    Args:\n",
    "        database_path (str): Caminho para o diretório contendo os registros.\n",
    "    \"\"\"\n",
    "    # Carregar os IDs dos registros\n",
    "    record_ids = []\n",
    "    with open(os.path.join(database_path, \"RECORDS\")) as f:\n",
    "        record_ids = [line.strip() for line in f.readlines()]\n",
    "\n",
    "    # Remover registros indesejados da base AFDB\n",
    "    record_ids.remove(\"00735\")\n",
    "    record_ids.remove(\"03665\")\n",
    "\n",
    "    # Processar cada registro\n",
    "    for record_index, record_id in enumerate(record_ids):\n",
    "        record_path = os.path.join(database_path, record_id)\n",
    "        _, ecg_metadata = wfdb.rdsamp(record_path)\n",
    "        signal_len = ecg_metadata[\"sig_len\"]\n",
    "        \n",
    "        # Gravação completa\n",
    "        recording = wfdb.rdrecord(record_name=record_path)\n",
    "\n",
    "        extract_intervals = get_ranges_afib(record_path, signal_len)\n",
    "        \n",
    "        # Para teste, processa apenas o primeiro registro\n",
    "        print(f\"Record ID: {record_id}, AFIB Intervals: {extract_intervals}\")\n",
    "\n",
    "        # Quantidade de RRIs em cada segmento do sinal ECG\n",
    "        SEGMENT_SIZE = 5 \n",
    "        \n",
    "        stack_rr = np.empty((0, SEGMENT_SIZE), dtype=int)\n",
    "        stack_recording = []\n",
    "        \n",
    "        # Percorre cada trecho diagnosticado com AFIB\n",
    "        for start_index, end_index in tqdm(extract_intervals):\n",
    "            annotations_r_peaks = wfdb.rdann(\n",
    "                record_path,\n",
    "                sampfrom=start_index,\n",
    "                sampto=end_index,\n",
    "                extension=\"qrs\",\n",
    "            )\n",
    "            positions_r_peaks = annotations_r_peaks.sample\n",
    "            frequency = annotations_r_peaks.fs\n",
    "            \n",
    "            positions_r_peak_ms = (positions_r_peaks / frequency) * 1000\n",
    "            \n",
    "            rr_intervals = processing.calc_rr(positions_r_peak_ms, fs=frequency)\n",
    "            \n",
    "            num_segments = (len(positions_r_peaks) - 1) // SEGMENT_SIZE\n",
    "\n",
    "            if num_segments <= 0:\n",
    "                continue\n",
    "\n",
    "            last_segment = num_segments * SEGMENT_SIZE\n",
    "\n",
    "            for i in range(0, last_segment, SEGMENT_SIZE):\n",
    "                # Montando a saída dos segmentos (RRIs)\n",
    "                rr_segment = rr_intervals[i : i + SEGMENT_SIZE]\n",
    "                stack_rr = np.vstack((stack_rr, rr_segment))\n",
    "\n",
    "                # Montando a saída dos segmentos (Gravação 2 derivações)\n",
    "                start_index = positions_r_peaks[i]\n",
    "                end_index = positions_r_peaks[i + SEGMENT_SIZE]\n",
    "                rec_seg = recording.p_signal[start_index:end_index]\n",
    "                stack_recording.append(rec_seg)\n",
    "        \n",
    "        destination_results = 'exploring_afdb_results'\n",
    "\n",
    "        if not os.path.exists(destination_results):\n",
    "            os.makedirs(destination_results)\n",
    "        \n",
    "        np.save(\n",
    "            file=f\"./exploring_afdb_results/{record_index}_{record_id}_rri_segment\", arr=stack_rr\n",
    "        )\n",
    "\n",
    "        stack_recording = np.array(stack_recording, dtype=object)\n",
    "        \n",
    "        np.save(\n",
    "            file=f\"./exploring_afdb_results/{record_index}_{record_id}_recording_segment\",\n",
    "            arr=stack_recording,\n",
    "        )\n",
    "        \n",
    "        # # Esse break serve para rodar apenas para a primeira gravação (Teste)\n",
    "        # break\n",
    "\n",
    "DATABASE_PATH = \"/home/apo-pc/Documents/GitHub/atrial_fibrilation_detection/data/mit-bih-atrial-fibrillation-database-1/files\"\n",
    "process_records(DATABASE_PATH)"
   ]
  },
  {
   "cell_type": "code",
   "execution_count": 3,
   "metadata": {},
   "outputs": [],
   "source": [
    "# Trechos da gravação 04015 particionadas em segmentos de 5 RRIs que foram diagnosticadas com FA\n",
    "\n",
    "A = np.load(f\"./exploring_afdb_results/0_04015_recording_segment.npy\", allow_pickle=True)"
   ]
  },
  {
   "cell_type": "code",
   "execution_count": 14,
   "metadata": {},
   "outputs": [
    {
     "data": {
      "text/plain": [
       "(100,)"
      ]
     },
     "execution_count": 14,
     "metadata": {},
     "output_type": "execute_result"
    }
   ],
   "source": [
    "A"
   ]
  },
  {
   "cell_type": "code",
   "execution_count": 12,
   "metadata": {},
   "outputs": [],
   "source": [
    "A_0 = A[0]"
   ]
  },
  {
   "cell_type": "code",
   "execution_count": 23,
   "metadata": {},
   "outputs": [
    {
     "data": {
      "image/png": "[encoded data removed]",
      "text/plain": [
       "<Figure size 640x480 with 1 Axes>"
      ]
     },
     "metadata": {},
     "output_type": "display_data"
    }
   ],
   "source": [
    "# Plot A_0\n",
    "import matplotlib.pyplot as plt\n",
    "\n",
    "plt.plot(A_0[:, 0])\n",
    "plt.plot(A_0[:, 1])\n",
    "plt.legend([\"Lead I\", \"Lead II\"])\n",
    "plt.show()"
   ]
  },
  {
   "cell_type": "code",
   "execution_count": 11,
   "metadata": {},
   "outputs": [
    {
     "data": {
      "text/plain": [
       "array([[552., 492., 416., 396., 436.],\n",
       "       [532., 568., 424., 296., 384.],\n",
       "       [328., 364., 388., 360., 296.],\n",
       "       [340., 376., 364., 372., 492.],\n",
       "       [428., 572., 448., 632., 472.],\n",
       "       [464., 420., 392., 400., 484.],\n",
       "       [428., 316., 652., 508., 356.],\n",
       "       [440., 500., 384., 520., 448.],\n",
       "       [372., 492., 424., 572., 524.],\n",
       "       [364., 428., 392., 288., 628.],\n",
       "       [504., 528., 504., 528., 472.],\n",
       "       [348., 448., 524., 404., 476.],\n",
       "       [460., 516., 432., 460., 416.],\n",
       "       [492., 544., 456., 320., 316.],\n",
       "       [428., 536., 500., 380., 372.],\n",
       "       [472., 440., 300., 384., 448.],\n",
       "       [424., 352., 420., 396., 380.],\n",
       "       [416., 388., 376., 348., 328.],\n",
       "       [356., 376., 460., 560., 392.],\n",
       "       [304., 380., 488., 452., 556.],\n",
       "       [396., 368., 704., 680., 684.],\n",
       "       [860., 468., 444., 452., 316.],\n",
       "       [328., 436., 452., 384., 312.],\n",
       "       [608., 564., 428., 528., 396.],\n",
       "       [344., 404., 392., 324., 428.],\n",
       "       [672., 500., 332., 324., 456.],\n",
       "       [416., 312., 360., 328., 312.],\n",
       "       [324., 464., 400., 560., 436.],\n",
       "       [320., 420., 696., 484., 348.],\n",
       "       [348., 524., 424., 476., 404.],\n",
       "       [512., 784., 560., 656., 572.],\n",
       "       [492., 420., 312., 332., 460.],\n",
       "       [584., 424., 568., 536., 424.],\n",
       "       [504., 464., 360., 616., 472.],\n",
       "       [460., 484., 432., 408., 304.],\n",
       "       [316., 532., 428., 284., 604.],\n",
       "       [504., 452., 356., 360., 344.],\n",
       "       [316., 472., 488., 380., 348.],\n",
       "       [496., 528., 500., 508., 428.],\n",
       "       [340., 516., 500., 352., 516.],\n",
       "       [416., 288., 648., 460., 444.],\n",
       "       [388., 356., 372., 340., 504.],\n",
       "       [496., 576., 448., 468., 412.],\n",
       "       [312., 360., 360., 520., 420.],\n",
       "       [292., 556., 608., 504., 440.],\n",
       "       [388., 456., 388., 508., 588.],\n",
       "       [368., 332., 492., 424., 924.],\n",
       "       [972., 540., 644., 608., 952.],\n",
       "       [556., 656., 952., 512., 576.],\n",
       "       [620., 468., 640., 572., 388.],\n",
       "       [348., 444., 444., 384., 284.],\n",
       "       [288., 436., 376., 280., 444.],\n",
       "       [396., 408., 348., 568., 480.],\n",
       "       [268., 420., 356., 448., 560.],\n",
       "       [428., 480., 480., 460., 356.],\n",
       "       [516., 404., 452., 484., 512.],\n",
       "       [448., 336., 356., 464., 404.],\n",
       "       [396., 472., 380., 452., 692.],\n",
       "       [460., 368., 388., 332., 316.],\n",
       "       [660., 500., 360., 520., 580.],\n",
       "       [560., 392., 600., 440., 420.],\n",
       "       [476., 628., 452., 348., 420.],\n",
       "       [708., 680., 420., 396., 340.],\n",
       "       [536., 444., 304., 460., 408.],\n",
       "       [316., 472., 344., 280., 412.],\n",
       "       [368., 280., 420., 360., 424.],\n",
       "       [384., 452., 368., 316., 484.],\n",
       "       [448., 316., 464., 452., 680.],\n",
       "       [460., 576., 448., 500., 524.],\n",
       "       [376., 504., 412., 348., 420.],\n",
       "       [516., 396., 372., 360., 584.],\n",
       "       [476., 460., 468., 456., 456.],\n",
       "       [380., 472., 392., 408., 464.],\n",
       "       [440., 576., 456., 452., 392.],\n",
       "       [428., 408., 568., 472., 424.],\n",
       "       [632., 476., 496., 384., 388.],\n",
       "       [356., 404., 372., 484., 500.],\n",
       "       [332., 572., 564., 452., 412.],\n",
       "       [412., 456., 336., 500., 412.],\n",
       "       [512., 480., 324., 528., 548.],\n",
       "       [380., 504., 452., 436., 340.],\n",
       "       [472., 464., 456., 340., 348.],\n",
       "       [356., 452., 464., 428., 388.],\n",
       "       [316., 416., 344., 364., 432.],\n",
       "       [352., 592., 424., 424., 380.],\n",
       "       [432., 480., 464., 600., 508.],\n",
       "       [308., 436., 484., 436., 488.],\n",
       "       [420., 364., 540., 380., 516.],\n",
       "       [580., 488., 400., 336., 328.],\n",
       "       [420., 496., 376., 268., 504.],\n",
       "       [528., 352., 524., 436., 420.],\n",
       "       [488., 404., 408., 372., 488.],\n",
       "       [532., 508., 480., 460., 460.],\n",
       "       [456., 492., 408., 376., 364.],\n",
       "       [424., 468., 368., 296., 396.],\n",
       "       [520., 384., 364., 456., 360.],\n",
       "       [528., 556., 460., 480., 436.],\n",
       "       [348., 508., 440., 468., 468.],\n",
       "       [548., 480., 404., 392., 360.],\n",
       "       [512., 516., 388., 412., 368.]])"
      ]
     },
     "execution_count": 11,
     "metadata": {},
     "output_type": "execute_result"
    }
   ],
   "source": [
    "# Os RRIs da gravação 04015 agrupados em segmentos de tamanho 5 diagnosticados com FA\n",
    "\n",
    "np.load(f\"./exploring_afdb_results/0_04015_rri_segment.npy\", allow_pickle=True)"
   ]
  }
 ],
 "metadata": {
  "kernelspec": {
   "display_name": ".venv",
   "language": "python",
   "name": "python3"
  },
  "language_info": {
   "codemirror_mode": {
    "name": "ipython",
    "version": 3
   },
   "file_extension": ".py",
   "mimetype": "text/x-python",
   "name": "python",
   "nbconvert_exporter": "python",
   "pygments_lexer": "ipython3",
   "version": "3.11.8"
  }
 },
 "nbformat": 4,
 "nbformat_minor": 2
}
